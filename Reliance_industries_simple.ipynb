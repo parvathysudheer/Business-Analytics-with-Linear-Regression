{
  "nbformat": 4,
  "nbformat_minor": 0,
  "metadata": {
    "colab": {
      "name": "Reliance industries simple.ipynb",
      "provenance": []
    },
    "kernelspec": {
      "name": "python3",
      "display_name": "Python 3"
    },
    "language_info": {
      "name": "python"
    }
  },
  "cells": [
    {
      "cell_type": "code",
      "execution_count": null,
      "metadata": {
        "id": "ljpvIDSN2A2H"
      },
      "outputs": [],
      "source": [
        "from sklearn.linear_model import LinearRegression"
      ]
    },
    {
      "cell_type": "code",
      "source": [
        "import pandas as pd"
      ],
      "metadata": {
        "id": "6A4dhM4a2X8x"
      },
      "execution_count": null,
      "outputs": []
    },
    {
      "cell_type": "code",
      "source": [
        "dataset = pd.read_csv('/content/RELIANCE.NS.csv')"
      ],
      "metadata": {
        "id": "QYrbfRHz2boH"
      },
      "execution_count": null,
      "outputs": []
    },
    {
      "cell_type": "code",
      "source": [
        "dataset"
      ],
      "metadata": {
        "colab": {
          "base_uri": "https://localhost:8080/",
          "height": 424
        },
        "id": "8Dn8poT12vHd",
        "outputId": "2a268199-7f8f-4bb0-cce8-ed7cfabed6f0"
      },
      "execution_count": null,
      "outputs": [
        {
          "output_type": "execute_result",
          "data": {
            "text/plain": [
              "        Date         Open\n",
              "0    44424.0  2149.350098\n",
              "1    44425.0  2168.850098\n",
              "2    44426.0  2174.000000\n",
              "3    44428.0  2143.000000\n",
              "4    44431.0  2174.000000\n",
              "..       ...          ...\n",
              "244  44781.0  2531.000000\n",
              "245  44783.0  2576.899902\n",
              "246  44784.0  2603.100098\n",
              "247  44785.0  2590.300049\n",
              "248  44789.0  2646.199951\n",
              "\n",
              "[249 rows x 2 columns]"
            ],
            "text/html": [
              "\n",
              "  <div id=\"df-104a7924-4a00-444b-991e-2deffbc6be96\">\n",
              "    <div class=\"colab-df-container\">\n",
              "      <div>\n",
              "<style scoped>\n",
              "    .dataframe tbody tr th:only-of-type {\n",
              "        vertical-align: middle;\n",
              "    }\n",
              "\n",
              "    .dataframe tbody tr th {\n",
              "        vertical-align: top;\n",
              "    }\n",
              "\n",
              "    .dataframe thead th {\n",
              "        text-align: right;\n",
              "    }\n",
              "</style>\n",
              "<table border=\"1\" class=\"dataframe\">\n",
              "  <thead>\n",
              "    <tr style=\"text-align: right;\">\n",
              "      <th></th>\n",
              "      <th>Date</th>\n",
              "      <th>Open</th>\n",
              "    </tr>\n",
              "  </thead>\n",
              "  <tbody>\n",
              "    <tr>\n",
              "      <th>0</th>\n",
              "      <td>44424.0</td>\n",
              "      <td>2149.350098</td>\n",
              "    </tr>\n",
              "    <tr>\n",
              "      <th>1</th>\n",
              "      <td>44425.0</td>\n",
              "      <td>2168.850098</td>\n",
              "    </tr>\n",
              "    <tr>\n",
              "      <th>2</th>\n",
              "      <td>44426.0</td>\n",
              "      <td>2174.000000</td>\n",
              "    </tr>\n",
              "    <tr>\n",
              "      <th>3</th>\n",
              "      <td>44428.0</td>\n",
              "      <td>2143.000000</td>\n",
              "    </tr>\n",
              "    <tr>\n",
              "      <th>4</th>\n",
              "      <td>44431.0</td>\n",
              "      <td>2174.000000</td>\n",
              "    </tr>\n",
              "    <tr>\n",
              "      <th>...</th>\n",
              "      <td>...</td>\n",
              "      <td>...</td>\n",
              "    </tr>\n",
              "    <tr>\n",
              "      <th>244</th>\n",
              "      <td>44781.0</td>\n",
              "      <td>2531.000000</td>\n",
              "    </tr>\n",
              "    <tr>\n",
              "      <th>245</th>\n",
              "      <td>44783.0</td>\n",
              "      <td>2576.899902</td>\n",
              "    </tr>\n",
              "    <tr>\n",
              "      <th>246</th>\n",
              "      <td>44784.0</td>\n",
              "      <td>2603.100098</td>\n",
              "    </tr>\n",
              "    <tr>\n",
              "      <th>247</th>\n",
              "      <td>44785.0</td>\n",
              "      <td>2590.300049</td>\n",
              "    </tr>\n",
              "    <tr>\n",
              "      <th>248</th>\n",
              "      <td>44789.0</td>\n",
              "      <td>2646.199951</td>\n",
              "    </tr>\n",
              "  </tbody>\n",
              "</table>\n",
              "<p>249 rows × 2 columns</p>\n",
              "</div>\n",
              "      <button class=\"colab-df-convert\" onclick=\"convertToInteractive('df-104a7924-4a00-444b-991e-2deffbc6be96')\"\n",
              "              title=\"Convert this dataframe to an interactive table.\"\n",
              "              style=\"display:none;\">\n",
              "        \n",
              "  <svg xmlns=\"http://www.w3.org/2000/svg\" height=\"24px\"viewBox=\"0 0 24 24\"\n",
              "       width=\"24px\">\n",
              "    <path d=\"M0 0h24v24H0V0z\" fill=\"none\"/>\n",
              "    <path d=\"M18.56 5.44l.94 2.06.94-2.06 2.06-.94-2.06-.94-.94-2.06-.94 2.06-2.06.94zm-11 1L8.5 8.5l.94-2.06 2.06-.94-2.06-.94L8.5 2.5l-.94 2.06-2.06.94zm10 10l.94 2.06.94-2.06 2.06-.94-2.06-.94-.94-2.06-.94 2.06-2.06.94z\"/><path d=\"M17.41 7.96l-1.37-1.37c-.4-.4-.92-.59-1.43-.59-.52 0-1.04.2-1.43.59L10.3 9.45l-7.72 7.72c-.78.78-.78 2.05 0 2.83L4 21.41c.39.39.9.59 1.41.59.51 0 1.02-.2 1.41-.59l7.78-7.78 2.81-2.81c.8-.78.8-2.07 0-2.86zM5.41 20L4 18.59l7.72-7.72 1.47 1.35L5.41 20z\"/>\n",
              "  </svg>\n",
              "      </button>\n",
              "      \n",
              "  <style>\n",
              "    .colab-df-container {\n",
              "      display:flex;\n",
              "      flex-wrap:wrap;\n",
              "      gap: 12px;\n",
              "    }\n",
              "\n",
              "    .colab-df-convert {\n",
              "      background-color: #E8F0FE;\n",
              "      border: none;\n",
              "      border-radius: 50%;\n",
              "      cursor: pointer;\n",
              "      display: none;\n",
              "      fill: #1967D2;\n",
              "      height: 32px;\n",
              "      padding: 0 0 0 0;\n",
              "      width: 32px;\n",
              "    }\n",
              "\n",
              "    .colab-df-convert:hover {\n",
              "      background-color: #E2EBFA;\n",
              "      box-shadow: 0px 1px 2px rgba(60, 64, 67, 0.3), 0px 1px 3px 1px rgba(60, 64, 67, 0.15);\n",
              "      fill: #174EA6;\n",
              "    }\n",
              "\n",
              "    [theme=dark] .colab-df-convert {\n",
              "      background-color: #3B4455;\n",
              "      fill: #D2E3FC;\n",
              "    }\n",
              "\n",
              "    [theme=dark] .colab-df-convert:hover {\n",
              "      background-color: #434B5C;\n",
              "      box-shadow: 0px 1px 3px 1px rgba(0, 0, 0, 0.15);\n",
              "      filter: drop-shadow(0px 1px 2px rgba(0, 0, 0, 0.3));\n",
              "      fill: #FFFFFF;\n",
              "    }\n",
              "  </style>\n",
              "\n",
              "      <script>\n",
              "        const buttonEl =\n",
              "          document.querySelector('#df-104a7924-4a00-444b-991e-2deffbc6be96 button.colab-df-convert');\n",
              "        buttonEl.style.display =\n",
              "          google.colab.kernel.accessAllowed ? 'block' : 'none';\n",
              "\n",
              "        async function convertToInteractive(key) {\n",
              "          const element = document.querySelector('#df-104a7924-4a00-444b-991e-2deffbc6be96');\n",
              "          const dataTable =\n",
              "            await google.colab.kernel.invokeFunction('convertToInteractive',\n",
              "                                                     [key], {});\n",
              "          if (!dataTable) return;\n",
              "\n",
              "          const docLinkHtml = 'Like what you see? Visit the ' +\n",
              "            '<a target=\"_blank\" href=https://colab.research.google.com/notebooks/data_table.ipynb>data table notebook</a>'\n",
              "            + ' to learn more about interactive tables.';\n",
              "          element.innerHTML = '';\n",
              "          dataTable['output_type'] = 'display_data';\n",
              "          await google.colab.output.renderOutput(dataTable, element);\n",
              "          const docLink = document.createElement('div');\n",
              "          docLink.innerHTML = docLinkHtml;\n",
              "          element.appendChild(docLink);\n",
              "        }\n",
              "      </script>\n",
              "    </div>\n",
              "  </div>\n",
              "  "
            ]
          },
          "metadata": {},
          "execution_count": 19
        }
      ]
    },
    {
      "cell_type": "code",
      "source": [
        "x = dataset.iloc[:, :-1].values\n",
        "y = dataset.iloc[:, -1].values"
      ],
      "metadata": {
        "id": "Nv7r7wvM2yPf"
      },
      "execution_count": null,
      "outputs": []
    },
    {
      "cell_type": "code",
      "source": [
        "x"
      ],
      "metadata": {
        "colab": {
          "base_uri": "https://localhost:8080/"
        },
        "id": "yZYiaX6G20lu",
        "outputId": "35369a35-2724-4a3d-a374-155f86468c7c"
      },
      "execution_count": null,
      "outputs": [
        {
          "output_type": "execute_result",
          "data": {
            "text/plain": [
              "array([[44424.],\n",
              "       [44425.],\n",
              "       [44426.],\n",
              "       [44428.],\n",
              "       [44431.],\n",
              "       [44432.],\n",
              "       [44433.],\n",
              "       [44434.],\n",
              "       [44435.],\n",
              "       [44438.],\n",
              "       [44439.],\n",
              "       [44440.],\n",
              "       [44441.],\n",
              "       [44442.],\n",
              "       [44445.],\n",
              "       [44446.],\n",
              "       [44447.],\n",
              "       [44448.],\n",
              "       [44452.],\n",
              "       [44453.],\n",
              "       [44454.],\n",
              "       [44455.],\n",
              "       [44456.],\n",
              "       [44459.],\n",
              "       [44460.],\n",
              "       [44461.],\n",
              "       [44462.],\n",
              "       [44463.],\n",
              "       [44466.],\n",
              "       [44467.],\n",
              "       [44468.],\n",
              "       [44469.],\n",
              "       [44470.],\n",
              "       [44473.],\n",
              "       [44474.],\n",
              "       [44475.],\n",
              "       [44476.],\n",
              "       [44477.],\n",
              "       [44480.],\n",
              "       [44481.],\n",
              "       [44482.],\n",
              "       [44483.],\n",
              "       [44487.],\n",
              "       [44488.],\n",
              "       [44489.],\n",
              "       [44490.],\n",
              "       [44491.],\n",
              "       [44494.],\n",
              "       [44495.],\n",
              "       [44496.],\n",
              "       [44497.],\n",
              "       [44498.],\n",
              "       [44501.],\n",
              "       [44502.],\n",
              "       [44503.],\n",
              "       [44504.],\n",
              "       [44508.],\n",
              "       [44509.],\n",
              "       [44510.],\n",
              "       [44511.],\n",
              "       [44512.],\n",
              "       [44515.],\n",
              "       [44516.],\n",
              "       [44517.],\n",
              "       [44518.],\n",
              "       [44522.],\n",
              "       [44523.],\n",
              "       [44524.],\n",
              "       [44525.],\n",
              "       [44526.],\n",
              "       [44529.],\n",
              "       [44530.],\n",
              "       [44531.],\n",
              "       [44532.],\n",
              "       [44533.],\n",
              "       [44536.],\n",
              "       [44537.],\n",
              "       [44538.],\n",
              "       [44539.],\n",
              "       [44540.],\n",
              "       [44543.],\n",
              "       [44544.],\n",
              "       [44545.],\n",
              "       [44546.],\n",
              "       [44547.],\n",
              "       [44550.],\n",
              "       [44551.],\n",
              "       [44552.],\n",
              "       [44553.],\n",
              "       [44554.],\n",
              "       [44557.],\n",
              "       [44558.],\n",
              "       [44559.],\n",
              "       [44560.],\n",
              "       [44561.],\n",
              "       [44564.],\n",
              "       [44565.],\n",
              "       [44566.],\n",
              "       [44567.],\n",
              "       [44568.],\n",
              "       [44571.],\n",
              "       [44572.],\n",
              "       [44573.],\n",
              "       [44574.],\n",
              "       [44575.],\n",
              "       [44578.],\n",
              "       [44579.],\n",
              "       [44580.],\n",
              "       [44581.],\n",
              "       [44582.],\n",
              "       [44585.],\n",
              "       [44586.],\n",
              "       [44588.],\n",
              "       [44589.],\n",
              "       [44592.],\n",
              "       [44593.],\n",
              "       [44594.],\n",
              "       [44595.],\n",
              "       [44596.],\n",
              "       [44599.],\n",
              "       [44600.],\n",
              "       [44601.],\n",
              "       [44602.],\n",
              "       [44603.],\n",
              "       [44606.],\n",
              "       [44607.],\n",
              "       [44608.],\n",
              "       [44609.],\n",
              "       [44610.],\n",
              "       [44613.],\n",
              "       [44614.],\n",
              "       [44615.],\n",
              "       [44616.],\n",
              "       [44617.],\n",
              "       [44620.],\n",
              "       [44622.],\n",
              "       [44623.],\n",
              "       [44624.],\n",
              "       [44627.],\n",
              "       [44628.],\n",
              "       [44629.],\n",
              "       [44630.],\n",
              "       [44631.],\n",
              "       [44634.],\n",
              "       [44635.],\n",
              "       [44636.],\n",
              "       [44637.],\n",
              "       [44641.],\n",
              "       [44642.],\n",
              "       [44643.],\n",
              "       [44644.],\n",
              "       [44645.],\n",
              "       [44648.],\n",
              "       [44649.],\n",
              "       [44650.],\n",
              "       [44651.],\n",
              "       [44652.],\n",
              "       [44655.],\n",
              "       [44656.],\n",
              "       [44657.],\n",
              "       [44658.],\n",
              "       [44659.],\n",
              "       [44662.],\n",
              "       [44663.],\n",
              "       [44664.],\n",
              "       [44669.],\n",
              "       [44670.],\n",
              "       [44671.],\n",
              "       [44672.],\n",
              "       [44673.],\n",
              "       [44676.],\n",
              "       [44677.],\n",
              "       [44678.],\n",
              "       [44679.],\n",
              "       [44680.],\n",
              "       [44683.],\n",
              "       [44685.],\n",
              "       [44686.],\n",
              "       [44687.],\n",
              "       [44690.],\n",
              "       [44691.],\n",
              "       [44692.],\n",
              "       [44693.],\n",
              "       [44694.],\n",
              "       [44697.],\n",
              "       [44698.],\n",
              "       [44699.],\n",
              "       [44700.],\n",
              "       [44701.],\n",
              "       [44704.],\n",
              "       [44705.],\n",
              "       [44706.],\n",
              "       [44707.],\n",
              "       [44708.],\n",
              "       [44711.],\n",
              "       [44712.],\n",
              "       [44713.],\n",
              "       [44714.],\n",
              "       [44715.],\n",
              "       [44718.],\n",
              "       [44719.],\n",
              "       [44720.],\n",
              "       [44721.],\n",
              "       [44722.],\n",
              "       [44725.],\n",
              "       [44726.],\n",
              "       [44727.],\n",
              "       [44728.],\n",
              "       [44729.],\n",
              "       [44732.],\n",
              "       [44733.],\n",
              "       [44734.],\n",
              "       [44735.],\n",
              "       [44736.],\n",
              "       [44739.],\n",
              "       [44740.],\n",
              "       [44741.],\n",
              "       [44742.],\n",
              "       [44743.],\n",
              "       [44746.],\n",
              "       [44747.],\n",
              "       [44748.],\n",
              "       [44749.],\n",
              "       [44750.],\n",
              "       [44753.],\n",
              "       [44754.],\n",
              "       [44755.],\n",
              "       [44756.],\n",
              "       [44757.],\n",
              "       [44760.],\n",
              "       [44761.],\n",
              "       [44762.],\n",
              "       [44763.],\n",
              "       [44764.],\n",
              "       [44767.],\n",
              "       [44768.],\n",
              "       [44769.],\n",
              "       [44770.],\n",
              "       [44771.],\n",
              "       [44774.],\n",
              "       [44775.],\n",
              "       [44776.],\n",
              "       [44777.],\n",
              "       [44778.],\n",
              "       [44781.],\n",
              "       [44783.],\n",
              "       [44784.],\n",
              "       [44785.],\n",
              "       [44789.]])"
            ]
          },
          "metadata": {},
          "execution_count": 21
        }
      ]
    },
    {
      "cell_type": "code",
      "source": [
        "y"
      ],
      "metadata": {
        "colab": {
          "base_uri": "https://localhost:8080/"
        },
        "id": "wnDJUmho21NK",
        "outputId": "afff3097-e3af-48e5-acc0-3ec5b9520161"
      },
      "execution_count": null,
      "outputs": [
        {
          "output_type": "execute_result",
          "data": {
            "text/plain": [
              "array([2149.350098, 2168.850098, 2174.      , 2143.      , 2174.      ,\n",
              "       2165.050049, 2185.399902, 2208.      , 2237.      , 2250.      ,\n",
              "       2276.899902, 2273.      , 2255.      , 2310.      , 2413.      ,\n",
              "       2430.      , 2452.      , 2427.899902, 2433.      , 2375.      ,\n",
              "       2368.5     , 2381.550049, 2446.      , 2372.100098, 2405.      ,\n",
              "       2408.      , 2447.399902, 2503.550049, 2487.      , 2534.      ,\n",
              "       2570.      , 2525.      , 2501.949951, 2553.      , 2555.100098,\n",
              "       2619.949951, 2595.      , 2585.25    , 2701.399902, 2645.      ,\n",
              "       2679.      , 2700.350098, 2668.600098, 2723.800049, 2742.75    ,\n",
              "       2727.399902, 2620.      , 2680.      , 2617.100098, 2652.      ,\n",
              "       2620.      , 2596.149902, 2536.25    , 2545.      , 2506.050049,\n",
              "       2492.949951, 2519.399902, 2505.      , 2516.699951, 2540.050049,\n",
              "       2562.899902, 2600.      , 2572.050049, 2498.949951, 2460.      ,\n",
              "       2436.100098, 2333.050049, 2380.      , 2373.      , 2467.800049,\n",
              "       2439.100098, 2468.      , 2433.      , 2469.699951, 2498.399902,\n",
              "       2416.      , 2376.149902, 2424.100098, 2435.      , 2440.25    ,\n",
              "       2473.5     , 2380.      , 2384.      , 2405.699951, 2398.050049,\n",
              "       2317.850098, 2311.350098, 2324.899902, 2374.      , 2370.      ,\n",
              "       2361.550049, 2375.600098, 2391.      , 2400.      , 2373.      ,\n",
              "       2365.      , 2415.899902, 2462.      , 2451.199951, 2430.949951,\n",
              "       2452.      , 2436.      , 2471.300049, 2521.25    , 2535.      ,\n",
              "       2538.      , 2554.75    , 2530.      , 2500.050049, 2452.      ,\n",
              "       2475.      , 2349.550049, 2336.      , 2365.      , 2360.199951,\n",
              "       2408.      , 2407.      , 2392.      , 2341.      , 2342.      ,\n",
              "       2330.649902, 2371.149902, 2395.699951, 2373.25    , 2340.25    ,\n",
              "       2351.199951, 2430.      , 2420.100098, 2444.399902, 2412.      ,\n",
              "       2352.899902, 2401.100098, 2305.      , 2280.100098, 2243.      ,\n",
              "       2334.449951, 2400.      , 2353.      , 2278.699951, 2211.5     ,\n",
              "       2236.      , 2400.      , 2376.050049, 2386.899902, 2427.949951,\n",
              "       2382.      , 2432.75    , 2444.      , 2460.100098, 2523.      ,\n",
              "       2510.      , 2582.5     , 2610.      , 2638.      , 2639.899902,\n",
              "       2664.949951, 2636.      , 2655.449951, 2651.100098, 2587.100098,\n",
              "       2595.100098, 2560.      , 2600.      , 2587.      , 2574.5     ,\n",
              "       2533.      , 2558.      , 2657.100098, 2750.899902, 2758.899902,\n",
              "       2742.399902, 2710.      , 2755.850098, 2809.949951, 2856.149902,\n",
              "       2762.      , 2785.      , 2723.5     , 2612.199951, 2574.949951,\n",
              "       2495.      , 2472.649902, 2427.5     , 2426.      , 2434.449951,\n",
              "       2435.100098, 2539.649902, 2484.      , 2512.5     , 2631.5     ,\n",
              "       2607.      , 2635.      , 2624.399902, 2593.050049, 2615.      ,\n",
              "       2641.399902, 2634.300049, 2634.      , 2744.      , 2780.      ,\n",
              "       2769.899902, 2772.75    , 2710.      , 2771.899902, 2650.      ,\n",
              "       2650.050049, 2617.550049, 2623.      , 2560.      , 2605.      ,\n",
              "       2560.      , 2558.100098, 2515.050049, 2480.      , 2544.949951,\n",
              "       2482.100098, 2507.199951, 2580.      , 2574.899902, 2378.949951,\n",
              "       2423.      , 2420.100098, 2425.899902, 2418.      , 2376.5     ,\n",
              "       2404.      , 2427.300049, 2388.      , 2415.      , 2421.      ,\n",
              "       2400.300049, 2540.      , 2494.      , 2500.      , 2467.449951,\n",
              "       2421.100098, 2419.949951, 2436.      , 2474.699951, 2519.149902,\n",
              "       2572.5     , 2600.      , 2610.      , 2576.      , 2531.      ,\n",
              "       2576.899902, 2603.100098, 2590.300049, 2646.199951])"
            ]
          },
          "metadata": {},
          "execution_count": 22
        }
      ]
    },
    {
      "cell_type": "code",
      "source": [
        "reg = LinearRegression()\n",
        "reg.fit(x, y)"
      ],
      "metadata": {
        "colab": {
          "base_uri": "https://localhost:8080/"
        },
        "id": "5E_uTmk827CE",
        "outputId": "4b468d69-ab3a-433b-f95c-711acbc1b805"
      },
      "execution_count": null,
      "outputs": [
        {
          "output_type": "execute_result",
          "data": {
            "text/plain": [
              "LinearRegression()"
            ]
          },
          "metadata": {},
          "execution_count": 23
        }
      ]
    },
    {
      "cell_type": "code",
      "source": [
        "y_pred = reg.predict(x)"
      ],
      "metadata": {
        "id": "LIZVgCNB3ADv"
      },
      "execution_count": null,
      "outputs": []
    },
    {
      "cell_type": "code",
      "source": [
        "y_pred"
      ],
      "metadata": {
        "colab": {
          "base_uri": "https://localhost:8080/"
        },
        "id": "C_M1pRpv4qVk",
        "outputId": "6e078c2e-0de5-4dd1-dbbb-b44d5f2d8d1c"
      },
      "execution_count": null,
      "outputs": [
        {
          "output_type": "execute_result",
          "data": {
            "text/plain": [
              "array([2403.69824575, 2404.16438333, 2404.63052091, 2405.56279607,\n",
              "       2406.96120881, 2407.42734639, 2407.89348397, 2408.35962155,\n",
              "       2408.82575913, 2410.22417187, 2410.69030945, 2411.15644703,\n",
              "       2411.62258461, 2412.08872219, 2413.48713493, 2413.95327251,\n",
              "       2414.41941009, 2414.88554767, 2416.75009799, 2417.21623557,\n",
              "       2417.68237315, 2418.14851073, 2418.61464831, 2420.01306105,\n",
              "       2420.47919863, 2420.94533621, 2421.41147379, 2421.87761137,\n",
              "       2423.27602411, 2423.74216169, 2424.20829927, 2424.67443685,\n",
              "       2425.14057443, 2426.53898717, 2427.00512475, 2427.47126233,\n",
              "       2427.93739991, 2428.40353749, 2429.80195023, 2430.26808781,\n",
              "       2430.73422539, 2431.20036297, 2433.06491328, 2433.53105086,\n",
              "       2433.99718844, 2434.46332602, 2434.9294636 , 2436.32787634,\n",
              "       2436.79401392, 2437.2601515 , 2437.72628908, 2438.19242666,\n",
              "       2439.5908394 , 2440.05697698, 2440.52311456, 2440.98925214,\n",
              "       2442.85380246, 2443.31994004, 2443.78607762, 2444.2522152 ,\n",
              "       2444.71835278, 2446.11676552, 2446.5829031 , 2447.04904068,\n",
              "       2447.51517826, 2449.37972858, 2449.84586616, 2450.31200374,\n",
              "       2450.77814132, 2451.2442789 , 2452.64269164, 2453.10882922,\n",
              "       2453.5749668 , 2454.04110438, 2454.50724196, 2455.9056547 ,\n",
              "       2456.37179228, 2456.83792986, 2457.30406744, 2457.77020502,\n",
              "       2459.16861776, 2459.63475534, 2460.10089292, 2460.5670305 ,\n",
              "       2461.03316808, 2462.43158082, 2462.8977184 , 2463.36385598,\n",
              "       2463.82999356, 2464.29613114, 2465.69454388, 2466.16068146,\n",
              "       2466.62681904, 2467.09295662, 2467.5590942 , 2468.95750693,\n",
              "       2469.42364451, 2469.88978209, 2470.35591967, 2470.82205725,\n",
              "       2472.22046999, 2472.68660757, 2473.15274515, 2473.61888273,\n",
              "       2474.08502031, 2475.48343305, 2475.94957063, 2476.41570821,\n",
              "       2476.88184579, 2477.34798337, 2478.74639611, 2479.21253369,\n",
              "       2480.14480885, 2480.61094643, 2482.00935917, 2482.47549675,\n",
              "       2482.94163433, 2483.40777191, 2483.87390949, 2485.27232223,\n",
              "       2485.73845981, 2486.20459739, 2486.67073497, 2487.13687255,\n",
              "       2488.53528529, 2489.00142287, 2489.46756045, 2489.93369803,\n",
              "       2490.39983561, 2491.79824835, 2492.26438593, 2492.73052351,\n",
              "       2493.19666109, 2493.66279867, 2495.06121141, 2495.99348657,\n",
              "       2496.45962415, 2496.92576173, 2498.32417447, 2498.79031205,\n",
              "       2499.25644963, 2499.72258721, 2500.18872479, 2501.58713753,\n",
              "       2502.05327511, 2502.51941269, 2502.98555026, 2504.85010058,\n",
              "       2505.31623816, 2505.78237574, 2506.24851332, 2506.7146509 ,\n",
              "       2508.11306364, 2508.57920122, 2509.0453388 , 2509.51147638,\n",
              "       2509.97761396, 2511.3760267 , 2511.84216428, 2512.30830186,\n",
              "       2512.77443944, 2513.24057702, 2514.63898976, 2515.10512734,\n",
              "       2515.57126492, 2517.90195282, 2518.3680904 , 2518.83422798,\n",
              "       2519.30036556, 2519.76650314, 2521.16491588, 2521.63105346,\n",
              "       2522.09719104, 2522.56332862, 2523.0294662 , 2524.42787894,\n",
              "       2525.3601541 , 2525.82629168, 2526.29242926, 2527.690842  ,\n",
              "       2528.15697958, 2528.62311716, 2529.08925474, 2529.55539232,\n",
              "       2530.95380506, 2531.41994264, 2531.88608022, 2532.3522178 ,\n",
              "       2532.81835538, 2534.21676812, 2534.6829057 , 2535.14904328,\n",
              "       2535.61518086, 2536.08131844, 2537.47973118, 2537.94586875,\n",
              "       2538.41200633, 2538.87814391, 2539.34428149, 2540.74269423,\n",
              "       2541.20883181, 2541.67496939, 2542.14110697, 2542.60724455,\n",
              "       2544.00565729, 2544.47179487, 2544.93793245, 2545.40407003,\n",
              "       2545.87020761, 2547.26862035, 2547.73475793, 2548.20089551,\n",
              "       2548.66703309, 2549.13317067, 2550.53158341, 2550.99772099,\n",
              "       2551.46385857, 2551.92999615, 2552.39613373, 2553.79454647,\n",
              "       2554.26068405, 2554.72682163, 2555.19295921, 2555.65909679,\n",
              "       2557.05750953, 2557.52364711, 2557.98978469, 2558.45592227,\n",
              "       2558.92205985, 2560.32047259, 2560.78661017, 2561.25274775,\n",
              "       2561.71888533, 2562.18502291, 2563.58343565, 2564.04957323,\n",
              "       2564.51571081, 2564.98184839, 2565.44798597, 2566.84639871,\n",
              "       2567.31253629, 2567.77867387, 2568.24481145, 2568.71094903,\n",
              "       2570.10936177, 2571.04163693, 2571.50777451, 2571.97391209,\n",
              "       2573.8384624 ])"
            ]
          },
          "metadata": {},
          "execution_count": 25
        }
      ]
    },
    {
      "cell_type": "code",
      "source": [
        "import matplotlib.pyplot as plt"
      ],
      "metadata": {
        "id": "z6oZAAVv4rlY"
      },
      "execution_count": null,
      "outputs": []
    },
    {
      "cell_type": "code",
      "source": [
        "plt.scatter(x,y, color = 'red')\n",
        "plt.plot(x, y_pred, color = 'blue')\n",
        "plt.show()"
      ],
      "metadata": {
        "colab": {
          "base_uri": "https://localhost:8080/",
          "height": 265
        },
        "id": "LAWpBN3B4uGJ",
        "outputId": "826f170c-47b0-44cd-f26a-3fdba92e4cd5"
      },
      "execution_count": null,
      "outputs": [
        {
          "output_type": "display_data",
          "data": {
            "text/plain": [
              "<Figure size 432x288 with 1 Axes>"
            ],
            "image/png": "[encoded data removed]"
          },
          "metadata": {
            "needs_background": "light"
          }
        }
      ]
    },
    {
      "cell_type": "code",
      "source": [
        "#next"
      ],
      "metadata": {
        "id": "Q3wfNcg_9iuB"
      },
      "execution_count": null,
      "outputs": []
    },
    {
      "cell_type": "code",
      "source": [
        "from sklearn.preprocessing import PolynomialFeatures"
      ],
      "metadata": {
        "id": "2i4frrlu45gO"
      },
      "execution_count": null,
      "outputs": []
    },
    {
      "cell_type": "code",
      "source": [
        "import pandas as pd"
      ],
      "metadata": {
        "id": "_AEFl55W9_-W"
      },
      "execution_count": null,
      "outputs": []
    },
    {
      "cell_type": "code",
      "source": [
        "dataset = pd.read_csv('/content/RELIANCE.NS.csv')"
      ],
      "metadata": {
        "id": "KDEDhmt2-NWb"
      },
      "execution_count": null,
      "outputs": []
    },
    {
      "cell_type": "code",
      "source": [
        "poly_reg = PolynomialFeatures(degree = 10)"
      ],
      "metadata": {
        "id": "0H_YQBgQ9Jj4"
      },
      "execution_count": null,
      "outputs": []
    },
    {
      "cell_type": "code",
      "source": [
        "X_poly = poly_reg.fit_transform(x)"
      ],
      "metadata": {
        "id": "25MpI_Z79Lpy"
      },
      "execution_count": null,
      "outputs": []
    },
    {
      "cell_type": "code",
      "source": [
        "LG = LinearRegression()"
      ],
      "metadata": {
        "id": "2i1yfpA89NYV"
      },
      "execution_count": null,
      "outputs": []
    },
    {
      "cell_type": "code",
      "source": [
        "LG.fit(X_poly, y)"
      ],
      "metadata": {
        "colab": {
          "base_uri": "https://localhost:8080/"
        },
        "id": "AZ9mfEnf9Qcb",
        "outputId": "d83f3fcb-876b-4a3c-fb1f-5ed80c90fe31"
      },
      "execution_count": null,
      "outputs": [
        {
          "output_type": "execute_result",
          "data": {
            "text/plain": [
              "LinearRegression()"
            ]
          },
          "metadata": {},
          "execution_count": 60
        }
      ]
    },
    {
      "cell_type": "code",
      "source": [
        "y_pred=LG.predict(X_poly)"
      ],
      "metadata": {
        "id": "6-kHU67v9TJO"
      },
      "execution_count": null,
      "outputs": []
    },
    {
      "cell_type": "code",
      "source": [
        "y_pred"
      ],
      "metadata": {
        "colab": {
          "base_uri": "https://localhost:8080/"
        },
        "id": "xSxnJQnS9VBb",
        "outputId": "27582faa-b29d-44b6-ff89-d48abebf7d05"
      },
      "execution_count": null,
      "outputs": [
        {
          "output_type": "execute_result",
          "data": {
            "text/plain": [
              "array([2369.68200415, 2370.91003481, 2372.13060757, 2374.54949461,\n",
              "       2378.12261254, 2379.29904416, 2380.46822016, 2381.6301695 ,\n",
              "       2382.78492128, 2386.20628073, 2387.3325321 , 2388.45173086,\n",
              "       2389.56390624, 2390.66908725, 2393.9429553 , 2395.0204501 ,\n",
              "       2396.09109614, 2397.15492265, 2401.34261731, 2402.37278417,\n",
              "       2403.39630685, 2404.41321467, 2405.42353669, 2408.41528218,\n",
              "       2409.39955479, 2410.3773884 , 2411.3488124 , 2412.3138562 ,\n",
              "       2415.17099999, 2416.11081686, 2417.04440067, 2417.97178087,\n",
              "       2418.89298698, 2421.61985541, 2422.51666012, 2423.40743826,\n",
              "       2424.29221962, 2425.1710336 , 2427.7719678 , 2428.62720871,\n",
              "       2429.47663053, 2430.32026284, 2433.63749129, 2434.45262193,\n",
              "       2435.26214137, 2436.06607953, 2436.86446614, 2439.22661487,\n",
              "       2440.00309348, 2440.77416978, 2441.53987365, 2442.30023482,\n",
              "       2444.54956222, 2445.28885238, 2446.02294957, 2446.7518839 ,\n",
              "       2449.61659224, 2450.3201622 , 2451.01874948, 2451.7123841 ,\n",
              "       2452.40109624, 2454.43799859, 2455.10732186, 2455.77187329,\n",
              "       2456.43168314, 2459.02411026, 2459.66066521, 2460.29266001,\n",
              "       2460.92012481, 2461.54309009, 2463.3852913 , 2463.99056138,\n",
              "       2464.5914836 , 2465.18808837, 2465.78040608, 2467.53194089,\n",
              "       2468.10741464, 2468.6787535 , 2469.24598812, 2469.80914891,\n",
              "       2471.47449357, 2472.02166451, 2472.56491433, 2473.10427373,\n",
              "       2473.63977332, 2475.22341931, 2475.74378598, 2476.26044606,\n",
              "       2476.77343032, 2477.28276944, 2478.7892234 , 2479.28428943,\n",
              "       2479.77586412, 2480.26397832, 2480.74866282, 2482.18244655,\n",
              "       2482.65372076, 2483.12171955, 2483.58647392, 2484.04801468,\n",
              "       2485.41366522, 2485.86266137, 2486.30859882, 2486.75150857,\n",
              "       2487.19142164, 2488.49349138, 2488.92172843, 2489.34712407,\n",
              "       2489.76970959, 2490.18951605, 2491.43257268, 2491.84157457,\n",
              "       2492.65174006, 2493.05296612, 2494.2415926 , 2494.63288852,\n",
              "       2495.02178011, 2495.40829866, 2495.79247562, 2496.93127041,\n",
              "       2497.30639454, 2497.679334  , 2498.05012012, 2498.41878453,\n",
              "       2499.51236119, 2499.87285305, 2500.23138046, 2500.58797499,\n",
              "       2500.94266823, 2501.99565617, 2502.34306016, 2502.68872084,\n",
              "       2503.03266978, 2503.37493873, 2504.3919824 , 2505.06219258,\n",
              "       2505.39504709, 2505.72644366, 2506.71220325, 2507.03808574,\n",
              "       2507.36266931, 2507.68598578, 2508.00806694, 2508.96721805,\n",
              "       2509.28467723, 2509.60106084, 2509.91640066, 2511.16796251,\n",
              "       2511.47856364, 2511.78831308, 2512.09724299, 2512.40538541,\n",
              "       2513.32540852, 2513.63072194, 2513.93540851, 2514.23950032,\n",
              "       2514.54302965, 2515.45056449, 2515.75216578, 2516.05336578,\n",
              "       2516.35419662, 2516.6546907 , 2517.55447517, 2517.85394515,\n",
              "       2518.1532401 , 2519.64822181, 2519.94714662, 2520.24612329,\n",
              "       2520.54518427, 2520.84436214, 2521.74292237, 2522.04289312,\n",
              "       2522.34314355, 2522.64370609, 2522.94461355, 2523.84973128,\n",
              "       2524.45546593, 2524.75912808, 2525.06336387, 2525.97983988,\n",
              "       2526.28669733, 2526.59429213, 2526.90265718, 2527.21182523,\n",
              "       2528.14447605, 2528.45718472, 2528.77086078, 2529.08553718,\n",
              "       2529.40124682, 2530.35490462, 2530.6750769 , 2530.99644724,\n",
              "       2531.31904875, 2531.64291457, 2532.62242763, 2532.95168093,\n",
              "       2533.28236387, 2533.61450961, 2533.94815131, 2534.95838364,\n",
              "       2535.29834089, 2535.63996004, 2535.98327432, 2536.32831711,\n",
              "       2537.37414864, 2537.72643794, 2538.08062221, 2538.43673477,\n",
              "       2538.79480902, 2539.88113551, 2540.24739043, 2540.61577398,\n",
              "       2540.98631982, 2541.35906117, 2542.49079455, 2542.87265373,\n",
              "       2543.25687622, 2543.64349549, 2544.03254525, 2545.2146131 ,\n",
              "       2545.6137208 , 2546.015427  , 2546.4197654 , 2546.82676986,\n",
              "       2548.06411612, 2548.48212154, 2548.90296176, 2549.32667037,\n",
              "       2549.75328125, 2551.05086559, 2551.48942383, 2551.93105349,\n",
              "       2552.3757886 , 2552.82366297, 2554.18646142, 2554.64723244,\n",
              "       2555.11131259, 2555.57873591, 2556.04953629, 2557.48254072,\n",
              "       2557.96719019, 2558.4553871 , 2558.94716563, 2559.44255988,\n",
              "       2560.95077844, 2561.97496256, 2562.49276871, 2563.0144301 ,\n",
              "       2565.14031145])"
            ]
          },
          "metadata": {},
          "execution_count": 62
        }
      ]
    },
    {
      "cell_type": "code",
      "source": [
        "import matplotlib.pyplot as plt"
      ],
      "metadata": {
        "id": "LLOJy3mp_EQB"
      },
      "execution_count": null,
      "outputs": []
    },
    {
      "cell_type": "code",
      "source": [
        "plt.scatter(x, y, color = 'red')\n",
        "plt.plot(x,y_pred,  color = 'blue')"
      ],
      "metadata": {
        "colab": {
          "base_uri": "https://localhost:8080/",
          "height": 282
        },
        "id": "6swWfUfQ9WeK",
        "outputId": "e91840d5-7357-4ae3-b816-b47e3d8c7038"
      },
      "execution_count": null,
      "outputs": [
        {
          "output_type": "execute_result",
          "data": {
            "text/plain": [
              "[<matplotlib.lines.Line2D at 0x7ffa4ee09750>]"
            ]
          },
          "metadata": {},
          "execution_count": 65
        },
        {
          "output_type": "display_data",
          "data": {
            "text/plain": [
              "<Figure size 432x288 with 1 Axes>"
            ],
            "image/png": "[encoded data removed]"
          },
          "metadata": {
            "needs_background": "light"
          }
        }
      ]
    },
    {
      "cell_type": "code",
      "source": [
        "LG = LinearRegression()"
      ],
      "metadata": {
        "id": "hPUipI-U9Zrq"
      },
      "execution_count": null,
      "outputs": []
    },
    {
      "cell_type": "code",
      "source": [
        "LG.fit(X_poly, y)"
      ],
      "metadata": {
        "colab": {
          "base_uri": "https://localhost:8080/"
        },
        "id": "9EDGJr5PAnsv",
        "outputId": "ec6fbc17-8d7a-4201-b103-1803ce26efe7"
      },
      "execution_count": null,
      "outputs": [
        {
          "output_type": "execute_result",
          "data": {
            "text/plain": [
              "LinearRegression()"
            ]
          },
          "metadata": {},
          "execution_count": 67
        }
      ]
    },
    {
      "cell_type": "code",
      "source": [
        "y_pred=LG.predict(X_poly)"
      ],
      "metadata": {
        "id": "UyhPQMOtApeT"
      },
      "execution_count": null,
      "outputs": []
    },
    {
      "cell_type": "code",
      "source": [
        "y_pred"
      ],
      "metadata": {
        "colab": {
          "base_uri": "https://localhost:8080/"
        },
        "id": "KLqKMi1vAsUt",
        "outputId": "0ec3851e-a319-4e16-cffc-3e72c87a9b87"
      },
      "execution_count": null,
      "outputs": [
        {
          "output_type": "execute_result",
          "data": {
            "text/plain": [
              "array([2369.68200415, 2370.91003481, 2372.13060757, 2374.54949461,\n",
              "       2378.12261254, 2379.29904416, 2380.46822016, 2381.6301695 ,\n",
              "       2382.78492128, 2386.20628073, 2387.3325321 , 2388.45173086,\n",
              "       2389.56390624, 2390.66908725, 2393.9429553 , 2395.0204501 ,\n",
              "       2396.09109614, 2397.15492265, 2401.34261731, 2402.37278417,\n",
              "       2403.39630685, 2404.41321467, 2405.42353669, 2408.41528218,\n",
              "       2409.39955479, 2410.3773884 , 2411.3488124 , 2412.3138562 ,\n",
              "       2415.17099999, 2416.11081686, 2417.04440067, 2417.97178087,\n",
              "       2418.89298698, 2421.61985541, 2422.51666012, 2423.40743826,\n",
              "       2424.29221962, 2425.1710336 , 2427.7719678 , 2428.62720871,\n",
              "       2429.47663053, 2430.32026284, 2433.63749129, 2434.45262193,\n",
              "       2435.26214137, 2436.06607953, 2436.86446614, 2439.22661487,\n",
              "       2440.00309348, 2440.77416978, 2441.53987365, 2442.30023482,\n",
              "       2444.54956222, 2445.28885238, 2446.02294957, 2446.7518839 ,\n",
              "       2449.61659224, 2450.3201622 , 2451.01874948, 2451.7123841 ,\n",
              "       2452.40109624, 2454.43799859, 2455.10732186, 2455.77187329,\n",
              "       2456.43168314, 2459.02411026, 2459.66066521, 2460.29266001,\n",
              "       2460.92012481, 2461.54309009, 2463.3852913 , 2463.99056138,\n",
              "       2464.5914836 , 2465.18808837, 2465.78040608, 2467.53194089,\n",
              "       2468.10741464, 2468.6787535 , 2469.24598812, 2469.80914891,\n",
              "       2471.47449357, 2472.02166451, 2472.56491433, 2473.10427373,\n",
              "       2473.63977332, 2475.22341931, 2475.74378598, 2476.26044606,\n",
              "       2476.77343032, 2477.28276944, 2478.7892234 , 2479.28428943,\n",
              "       2479.77586412, 2480.26397832, 2480.74866282, 2482.18244655,\n",
              "       2482.65372076, 2483.12171955, 2483.58647392, 2484.04801468,\n",
              "       2485.41366522, 2485.86266137, 2486.30859882, 2486.75150857,\n",
              "       2487.19142164, 2488.49349138, 2488.92172843, 2489.34712407,\n",
              "       2489.76970959, 2490.18951605, 2491.43257268, 2491.84157457,\n",
              "       2492.65174006, 2493.05296612, 2494.2415926 , 2494.63288852,\n",
              "       2495.02178011, 2495.40829866, 2495.79247562, 2496.93127041,\n",
              "       2497.30639454, 2497.679334  , 2498.05012012, 2498.41878453,\n",
              "       2499.51236119, 2499.87285305, 2500.23138046, 2500.58797499,\n",
              "       2500.94266823, 2501.99565617, 2502.34306016, 2502.68872084,\n",
              "       2503.03266978, 2503.37493873, 2504.3919824 , 2505.06219258,\n",
              "       2505.39504709, 2505.72644366, 2506.71220325, 2507.03808574,\n",
              "       2507.36266931, 2507.68598578, 2508.00806694, 2508.96721805,\n",
              "       2509.28467723, 2509.60106084, 2509.91640066, 2511.16796251,\n",
              "       2511.47856364, 2511.78831308, 2512.09724299, 2512.40538541,\n",
              "       2513.32540852, 2513.63072194, 2513.93540851, 2514.23950032,\n",
              "       2514.54302965, 2515.45056449, 2515.75216578, 2516.05336578,\n",
              "       2516.35419662, 2516.6546907 , 2517.55447517, 2517.85394515,\n",
              "       2518.1532401 , 2519.64822181, 2519.94714662, 2520.24612329,\n",
              "       2520.54518427, 2520.84436214, 2521.74292237, 2522.04289312,\n",
              "       2522.34314355, 2522.64370609, 2522.94461355, 2523.84973128,\n",
              "       2524.45546593, 2524.75912808, 2525.06336387, 2525.97983988,\n",
              "       2526.28669733, 2526.59429213, 2526.90265718, 2527.21182523,\n",
              "       2528.14447605, 2528.45718472, 2528.77086078, 2529.08553718,\n",
              "       2529.40124682, 2530.35490462, 2530.6750769 , 2530.99644724,\n",
              "       2531.31904875, 2531.64291457, 2532.62242763, 2532.95168093,\n",
              "       2533.28236387, 2533.61450961, 2533.94815131, 2534.95838364,\n",
              "       2535.29834089, 2535.63996004, 2535.98327432, 2536.32831711,\n",
              "       2537.37414864, 2537.72643794, 2538.08062221, 2538.43673477,\n",
              "       2538.79480902, 2539.88113551, 2540.24739043, 2540.61577398,\n",
              "       2540.98631982, 2541.35906117, 2542.49079455, 2542.87265373,\n",
              "       2543.25687622, 2543.64349549, 2544.03254525, 2545.2146131 ,\n",
              "       2545.6137208 , 2546.015427  , 2546.4197654 , 2546.82676986,\n",
              "       2548.06411612, 2548.48212154, 2548.90296176, 2549.32667037,\n",
              "       2549.75328125, 2551.05086559, 2551.48942383, 2551.93105349,\n",
              "       2552.3757886 , 2552.82366297, 2554.18646142, 2554.64723244,\n",
              "       2555.11131259, 2555.57873591, 2556.04953629, 2557.48254072,\n",
              "       2557.96719019, 2558.4553871 , 2558.94716563, 2559.44255988,\n",
              "       2560.95077844, 2561.97496256, 2562.49276871, 2563.0144301 ,\n",
              "       2565.14031145])"
            ]
          },
          "metadata": {},
          "execution_count": 69
        }
      ]
    },
    {
      "cell_type": "code",
      "source": [
        "import matplotlib.pyplot as plt"
      ],
      "metadata": {
        "id": "sPUaNFnaAt2a"
      },
      "execution_count": null,
      "outputs": []
    },
    {
      "cell_type": "code",
      "source": [
        "plt.scatter(x, y, color = 'red')\n",
        "plt.plot(x,y_pred,  color = 'blue')"
      ],
      "metadata": {
        "id": "C1riW7NwAzAs",
        "outputId": "620a689c-acf3-4300-c0af-577a3875978d",
        "colab": {
          "base_uri": "https://localhost:8080/",
          "height": 282
        }
      },
      "execution_count": null,
      "outputs": [
        {
          "output_type": "execute_result",
          "data": {
            "text/plain": [
              "[<matplotlib.lines.Line2D at 0x7ffa4ecffc90>]"
            ]
          },
          "metadata": {},
          "execution_count": 71
        },
        {
          "output_type": "display_data",
          "data": {
            "text/plain": [
              "<Figure size 432x288 with 1 Axes>"
            ],
            "image/png": "[encoded data removed]"
          },
          "metadata": {
            "needs_background": "light"
          }
        }
      ]
    },
    {
      "cell_type": "code",
      "source": [
        ""
      ],
      "metadata": {
        "id": "af5N7Et3Azre"
      },
      "execution_count": null,
      "outputs": []
    }
  ]
}